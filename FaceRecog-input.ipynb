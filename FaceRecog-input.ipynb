{
 "cells": [
  {
   "cell_type": "code",
   "execution_count": 1,
   "metadata": {},
   "outputs": [
    {
     "name": "stdout",
     "output_type": "stream",
     "text": [
      "capture_images/opencv_frame_0.png written!\n",
      "(1, 84, 84)\n",
      "capture_images/opencv_frame_1.png written!\n",
      "(2, 84, 84)\n",
      "capture_images/opencv_frame_2.png written!\n",
      "(3, 84, 84)\n",
      "capture_images/opencv_frame_3.png written!\n",
      "(4, 84, 84)\n",
      "capture_images/opencv_frame_4.png written!\n",
      "(5, 84, 84)\n",
      "capture_images/opencv_frame_5.png written!\n",
      "(6, 84, 84)\n",
      "capture_images/opencv_frame_6.png written!\n",
      "(7, 84, 84)\n",
      "capture_images/opencv_frame_7.png written!\n",
      "(8, 84, 84)\n",
      "capture_images/opencv_frame_8.png written!\n",
      "(9, 84, 84)\n",
      "capture_images/opencv_frame_9.png written!\n",
      "(10, 84, 84)\n",
      "capture_images/opencv_frame_10.png written!\n",
      "(11, 84, 84)\n",
      "capture_images/opencv_frame_11.png written!\n",
      "(12, 84, 84)\n",
      "capture_images/opencv_frame_12.png written!\n",
      "(13, 84, 84)\n",
      "capture_images/opencv_frame_13.png written!\n",
      "(14, 84, 84)\n",
      "capture_images/opencv_frame_14.png written!\n",
      "(15, 84, 84)\n",
      "capture_images/opencv_frame_15.png written!\n",
      "(16, 84, 84)\n",
      "capture_images/opencv_frame_16.png written!\n",
      "(17, 84, 84)\n",
      "capture_images/opencv_frame_17.png written!\n",
      "(18, 84, 84)\n",
      "capture_images/opencv_frame_18.png written!\n",
      "(19, 84, 84)\n",
      "capture_images/opencv_frame_19.png written!\n",
      "(20, 84, 84)\n",
      "Escape hit, closing...\n"
     ]
    }
   ],
   "source": [
    "import cv2\n",
    "import numpy as np\n",
    "\n",
    "# Press 'SPACE' for getting an image. Press 'ESC' when done taking images.\n",
    "\n",
    "cam = cv2.VideoCapture(0) # initialize camera\n",
    "\n",
    "cv2.namedWindow(\"test\") # initialize window\n",
    "\n",
    "img_counter = 0\n",
    "face =[]\n",
    "\n",
    "while True:\n",
    "        ret, frame = cam.read() # Read Frame\n",
    "        frame = cv2.flip(frame,1,0)\n",
    "        cv2.rectangle(frame,(250,150),(334,234),(255,0,0),1) # Show area of interest\n",
    "        roi = frame[151:235, 251:335] # Area of interest\n",
    "        cv2.imshow(\"test\", frame) # Show read frames continously (video)\n",
    "        if not ret:\n",
    "            break\n",
    "        \n",
    "        #Input Key\n",
    "        \n",
    "        k = cv2.waitKey(1)\n",
    " \n",
    "        if k % 256 == 27:\n",
    "        \n",
    "            # Handle ESC press\n",
    "            \n",
    "            print(\"Escape hit, closing...\")\n",
    "            break\n",
    "            \n",
    "            \n",
    "        elif k % 256 == 32:\n",
    "            \n",
    "            # Handle 'SPACE' press\n",
    "            \n",
    "            img_name = \"capture_images/opencv_frame_{}.png\".format(img_counter)\n",
    "            cv2.imwrite(img_name, roi)\n",
    "            print(\"{} written!\".format(img_name))\n",
    "            im=cv2.imread(img_name,0) \n",
    "            face.append(im)\n",
    "            faces= np.array(face)\n",
    "            np.save(\"capture_images/faces\",faces)#numpy array\n",
    "            print(faces.shape)\n",
    "            img_counter += 1\n",
    "            \n",
    "cam.release()\n",
    "\n",
    "\n",
    "cv2.destroyAllWindows()"
   ]
  },
  {
   "cell_type": "code",
   "execution_count": 2,
   "metadata": {},
   "outputs": [
    {
     "name": "stdout",
     "output_type": "stream",
     "text": [
      "(13,)\n"
     ]
    }
   ],
   "source": [
    "faces_target=[0]*13\n",
    "for i in range(13):\n",
    "    if i <6:\n",
    "        faces_target[i] = (0)\n",
    "    elif 6<=i<10:\n",
    "        faces_target[i] = 1\n",
    "    else:\n",
    "        faces_target[i]=2\n",
    "    \n",
    "faces_target  = np.array(faces_target)\n",
    "print(faces_target.shape)\n",
    "np.save(\"capture_images/faces_target\",faces_target)"
   ]
  }
 ],
 "metadata": {
  "kernelspec": {
   "display_name": "Python 3",
   "language": "python",
   "name": "python3"
  },
  "language_info": {
   "codemirror_mode": {
    "name": "ipython",
    "version": 3
   },
   "file_extension": ".py",
   "mimetype": "text/x-python",
   "name": "python",
   "nbconvert_exporter": "python",
   "pygments_lexer": "ipython3",
   "version": "3.7.0"
  }
 },
 "nbformat": 4,
 "nbformat_minor": 2
}
